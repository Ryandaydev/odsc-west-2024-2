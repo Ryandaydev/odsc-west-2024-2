{
 "cells": [
  {
   "cell_type": "markdown",
   "metadata": {},
   "source": [
    "# Shark League Metric "
   ]
  },
  {
   "cell_type": "markdown",
   "metadata": {},
   "source": [
    "## Import Python libraries"
   ]
  },
  {
   "cell_type": "code",
   "execution_count": 2,
   "metadata": {},
   "outputs": [],
   "source": [
    "import pandas as pd\n",
    "import logging\n",
    "import swc_simple_client as swc"
   ]
  },
  {
   "cell_type": "markdown",
   "metadata": {},
   "source": [
    "## Configure logging"
   ]
  },
  {
   "cell_type": "code",
   "execution_count": 14,
   "metadata": {},
   "outputs": [],
   "source": [
    "for handler in logging.root.handlers[:]:\n",
    "    logging.root.removeHandler(handler)\n",
    "\n",
    "logging.basicConfig(\n",
    "    filename='shark_notebook.log',  \n",
    "    level=logging.DEBUG,  \n",
    ")\n",
    "\n",
    "logger = logging.getLogger(__name__) "
   ]
  },
  {
   "cell_type": "markdown",
   "metadata": {},
   "source": [
    "## Setup notebook variables"
   ]
  },
  {
   "cell_type": "code",
   "execution_count": 20,
   "metadata": {},
   "outputs": [],
   "source": [
    "base_url = \"http://0.0.0.0:8000/\"\n"
   ]
  },
  {
   "cell_type": "markdown",
   "metadata": {},
   "source": []
  },
  {
   "cell_type": "markdown",
   "metadata": {},
   "source": [
    "## Get Custom Max Scores\n",
    "### Use endpoint: LIST_WEEKS_ENDPOINT "
   ]
  },
  {
   "cell_type": "code",
   "execution_count": 21,
   "metadata": {},
   "outputs": [
    {
     "data": {
      "text/html": [
       "<div>\n",
       "<style scoped>\n",
       "    .dataframe tbody tr th:only-of-type {\n",
       "        vertical-align: middle;\n",
       "    }\n",
       "\n",
       "    .dataframe tbody tr th {\n",
       "        vertical-align: top;\n",
       "    }\n",
       "\n",
       "    .dataframe thead th {\n",
       "        text-align: right;\n",
       "    }\n",
       "</style>\n",
       "<table border=\"1\" class=\"dataframe\">\n",
       "  <thead>\n",
       "    <tr style=\"text-align: right;\">\n",
       "      <th></th>\n",
       "      <th>ppr_12_max_points</th>\n",
       "      <th>half_ppr_8_max_points</th>\n",
       "    </tr>\n",
       "    <tr>\n",
       "      <th>year</th>\n",
       "      <th></th>\n",
       "      <th></th>\n",
       "    </tr>\n",
       "  </thead>\n",
       "  <tbody>\n",
       "    <tr>\n",
       "      <th>2023</th>\n",
       "      <td>16716.0</td>\n",
       "      <td>12304.0</td>\n",
       "    </tr>\n",
       "  </tbody>\n",
       "</table>\n",
       "</div>"
      ],
      "text/plain": [
       "      ppr_12_max_points  half_ppr_8_max_points\n",
       "year                                          \n",
       "2023            16716.0                12304.0"
      ]
     },
     "metadata": {},
     "output_type": "display_data"
    }
   ],
   "source": [
    "logger.debug(f\"base_url: {base_url}, api_endpoint: {base_url,swc.LIST_WEEKS_ENDPOINT}\")\n",
    "week_api_response = swc.call_api_endpoint(base_url,swc.LIST_WEEKS_ENDPOINT)\n",
    "weeks_df = pd.DataFrame(week_api_response.json())\n",
    "weeks_df['year'] = weeks_df['week_number'].str.slice(0, 4).astype(int)\n",
    "weeks_df['week'] = weeks_df['week_number'].str.slice(4, 6).astype(int)\n",
    "\n",
    "weeks_df = weeks_df.query('week <= 14')\n",
    "\n",
    "max_totals_grouped_df = weeks_df.groupby('year').agg(\n",
    "    ppr_12_max_points=('ppr_12_max_points', 'sum'), \n",
    "    half_ppr_8_max_points=('half_ppr_8_max_points', 'sum'))\n",
    "\n",
    "display(max_totals_grouped_df)"
   ]
  },
  {
   "cell_type": "markdown",
   "metadata": {},
   "source": [
    "## Get League Scoring Type\n",
    "### Use Endpoint: LIST_LEAGUES_ENDPOINT"
   ]
  },
  {
   "cell_type": "code",
   "execution_count": null,
   "metadata": {},
   "outputs": [],
   "source": [
    "league_api_response = swc.call_api_endpoint(base_url,swc.LIST_LEAGUES_ENDPOINT)\n",
    "leagues_df = pd.DataFrame(league_api_response.json())\n",
    "leagues_df = leagues_df.drop(columns=['teams','last_changed_date'])\n",
    "display(leagues_df)"
   ]
  },
  {
   "cell_type": "markdown",
   "metadata": {},
   "source": [
    "## Get Regular Season Scoring Totals - By Team\n",
    "### Use Endpoint: LIST_TEAMS_ENDPOINT"
   ]
  },
  {
   "cell_type": "code",
   "execution_count": null,
   "metadata": {},
   "outputs": [],
   "source": [
    "team_api_response = swc.call_api_endpoint(base_url,swc.LIST_TEAMS_ENDPOINT)\n",
    "\n",
    "teams_parsed_df = pd.json_normalize(team_api_response.json(), 'weekly_scores', ['league_id', 'team_id', 'team_name'])\n",
    "\n",
    "teams_parsed_df['year'] = teams_parsed_df['week_number'].str.slice(0, 4).astype(int)\n",
    "teams_parsed_df['week'] = teams_parsed_df['week_number'].str.slice(4, 6).astype(int)\n",
    "\n",
    "teams_parsed_df2 = teams_parsed_df.drop(columns=['week_number'])\n",
    "\n",
    "#get only regular season teams\n",
    "teams_regular_season_df = teams_parsed_df.query('week <= 14')\n",
    "\n",
    "#get team season totals\n",
    "team_totals_df = teams_regular_season_df.groupby(['league_id', 'team_id', 'year'], as_index = False)['fantasy_points'].sum()\n",
    "\n",
    "team_totals_df.head()"
   ]
  },
  {
   "cell_type": "code",
   "execution_count": null,
   "metadata": {},
   "outputs": [],
   "source": [
    "team_api_response = swc.call_api_endpoint(base_url,swc.LIST_TEAMS_ENDPOINT)\n",
    "\n",
    "teams_parsed_df2 = pd.json_normalize(team_api_response.json(), 'weekly_scores', ['league_id', 'team_id', 'team_name'])\n",
    "\n",
    "teams_parsed_df2['year'] = teams_parsed_df2['week_number'].str.slice(0, 4).astype(int)\n",
    "teams_parsed_df2['week'] = teams_parsed_df2['week_number'].str.slice(4, 6).astype(int)\n",
    "\n",
    "teams_parsed_df2 = teams_parsed_df2.drop(columns=['week_number'])\n",
    "\n",
    "#get only regular season teams\n",
    "teams_regular_season_df2 = teams_parsed_df2.query('week <= 14')\n",
    "\n",
    "#get team season totals\n",
    "team_totals_df2 = teams_regular_season_df2.groupby(['league_id', 'team_id', 'year'], as_index = False)['fantasy_points'].sum()\n",
    "\n",
    "team_totals_df2.head()"
   ]
  },
  {
   "cell_type": "markdown",
   "metadata": {},
   "source": [
    "## League Balance Score\n",
    "### Using Coefficient of Variation (CV) of league regular season totals"
   ]
  },
  {
   "cell_type": "code",
   "execution_count": null,
   "metadata": {},
   "outputs": [],
   "source": [
    "league_stats_df = team_totals_df.groupby(['league_id','year']).agg(\n",
    "    league_points_sum=('fantasy_points', 'sum'),\n",
    "    league_points_mean=('fantasy_points', 'mean'),\n",
    "    league_points_stdev=('fantasy_points', 'std'),\n",
    "    league_balance_score=('fantasy_points', lambda x: (100 -(x.std() / x.mean()) * 100))\n",
    ").reset_index()\n",
    "\n",
    "display(league_stats_df.sort_values(by='league_balance_score', ascending=False))"
   ]
  },
  {
   "cell_type": "markdown",
   "metadata": {},
   "source": [
    "## League Juice Score\n",
    "### Compare league scoring to max potential scoring"
   ]
  },
  {
   "cell_type": "code",
   "execution_count": null,
   "metadata": {},
   "outputs": [],
   "source": [
    "league_stats_with_league_max_df = (league_stats_df[['league_id','year', 'league_points_sum','league_balance_score']]\n",
    "               .merge(max_totals_grouped_df,left_on = 'year', right_on='year'))\n",
    "\n",
    "combined_metrics_df = (leagues_df[['league_id','league_name','scoring_type', 'league_size']]\n",
    "                         .merge(league_stats_with_league_max_df, left_on = 'league_id', right_on = 'league_id'))\n",
    "\n",
    "combined_metrics_df['league_juice_score'] = combined_metrics_df.apply(\n",
    "    lambda row: (\n",
    "        100 * (row['league_points_sum'] / row['ppr_12_max_points'])\n",
    "        if (row['scoring_type'] == 'PPR' and row['league_size'] == 12) else (\n",
    "            100 * (row['league_points_sum'] / row['half_ppr_8_max_points'])\n",
    "            if (row['scoring_type'] == 'Half-PPR' and row['league_size'] == 8) else None\n",
    "        )\n",
    "    ),\n",
    "    axis=1\n",
    ")\n",
    "\n",
    "combined_metrics_df = (combined_metrics_df.drop(\n",
    "    columns=['scoring_type','league_size','league_points_sum','ppr_12_max_points','half_ppr_8_max_points',] )\n",
    ")\n",
    "display(combined_metrics_df)"
   ]
  },
  {
   "cell_type": "markdown",
   "metadata": {},
   "source": [
    "# Create Shark League Score\n",
    "## Shark League Score = (2 * League Juice Score) + League Balance Score"
   ]
  },
  {
   "cell_type": "code",
   "execution_count": null,
   "metadata": {},
   "outputs": [],
   "source": [
    "combined_metrics_df['shark_league_score'] = combined_metrics_df.apply(\n",
    "    lambda league: (2 * league['league_juice_score']) +  league['league_balance_score'],\n",
    "    axis=1\n",
    ")\n",
    "display(combined_metrics_df.sort_values(by='shark_league_score', ascending=False))"
   ]
  },
  {
   "cell_type": "code",
   "execution_count": null,
   "metadata": {},
   "outputs": [],
   "source": []
  }
 ],
 "metadata": {
  "kernelspec": {
   "display_name": "Python 3",
   "language": "python",
   "name": "python3"
  },
  "language_info": {
   "codemirror_mode": {
    "name": "ipython",
    "version": 3
   },
   "file_extension": ".py",
   "mimetype": "text/x-python",
   "name": "python",
   "nbconvert_exporter": "python",
   "pygments_lexer": "ipython3",
   "version": "3.12.1"
  }
 },
 "nbformat": 4,
 "nbformat_minor": 2
}
