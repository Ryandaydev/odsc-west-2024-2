{
 "cells": [
  {
   "cell_type": "markdown",
   "metadata": {},
   "source": [
    "## Using SDK in a Jupyter Notebook"
   ]
  },
  {
   "cell_type": "markdown",
   "metadata": {},
   "source": [
    "from pyswc import SWCClient, SWCConfig\n",
    "import pandas as pd\n",
    "\n",
    "config = SWCConfig()\n",
    "client = SWCClient(config)\n",
    "sdk_players = client.list_players()\n",
    "\n",
    "#convert the list of player instances to dictionaries\n",
    "df = dp.DataFrame([player.model_dump() for player in sdk_players])\n",
    "print(df)"
   ]
  }
 ],
 "metadata": {
  "language_info": {
   "name": "python"
  }
 },
 "nbformat": 4,
 "nbformat_minor": 2
}
