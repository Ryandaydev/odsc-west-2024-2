{
 "cells": [
  {
   "cell_type": "markdown",
   "metadata": {},
   "source": [
    "## Using SDK in a Jupyter Notebook"
   ]
  },
  {
   "cell_type": "code",
   "execution_count": 2,
   "metadata": {},
   "outputs": [
    {
     "name": "stdout",
     "output_type": "stream",
     "text": [
      "    player_id     gsis_id first_name last_name position last_changed_date  \\\n",
      "0        1001  00-0023459      Aaron   Rodgers       QB        2024-04-18   \n",
      "1        1002  00-0023853       Matt    Prater        K        2024-04-18   \n",
      "2        1003  00-0024243   Marcedes     Lewis       TE        2024-04-18   \n",
      "3        1004  00-0025565       Nick      Folk        K        2024-04-18   \n",
      "4        1005  00-0025580      Mason    Crosby        K        2024-04-18   \n",
      "..        ...         ...        ...       ...      ...               ...   \n",
      "95       1096  00-0032392     Austin    Hooper       TE        2024-04-18   \n",
      "96       1097  00-0032394       Nick   Vannett       TE        2024-04-18   \n",
      "97       1098  00-0032398      Chris     Moore       WR        2024-04-18   \n",
      "98       1099  00-0032434    Brandon     Allen       QB        2024-04-18   \n",
      "99       1100  00-0032436       Jeff   Driskel       QB        2024-04-18   \n",
      "\n",
      "                                         performances  \n",
      "0   [{'performance_id': 2501, 'player_id': 1001, '...  \n",
      "1   [{'performance_id': 2502, 'player_id': 1002, '...  \n",
      "2   [{'performance_id': 2503, 'player_id': 1003, '...  \n",
      "3   [{'performance_id': 2504, 'player_id': 1004, '...  \n",
      "4   [{'performance_id': 2505, 'player_id': 1005, '...  \n",
      "..                                                ...  \n",
      "95  [{'performance_id': 2596, 'player_id': 1096, '...  \n",
      "96  [{'performance_id': 2597, 'player_id': 1097, '...  \n",
      "97  [{'performance_id': 2598, 'player_id': 1098, '...  \n",
      "98  [{'performance_id': 2599, 'player_id': 1099, '...  \n",
      "99  [{'performance_id': 2600, 'player_id': 1100, '...  \n",
      "\n",
      "[100 rows x 7 columns]\n"
     ]
    }
   ],
   "source": [
    "from swcpy import SWCClient, SWCConfig\n",
    "import pandas as pd\n",
    "\n",
    "config = SWCConfig()\n",
    "client = SWCClient(config)\n",
    "sdk_players = client.list_players()\n",
    "\n",
    "#convert the list of player instances to dictionaries\n",
    "df = pd.DataFrame([player.model_dump() for player in sdk_players])\n",
    "print(df)"
   ]
  },
  {
   "cell_type": "code",
   "execution_count": null,
   "metadata": {},
   "outputs": [],
   "source": []
  }
 ],
 "metadata": {
  "kernelspec": {
   "display_name": "Python 3",
   "language": "python",
   "name": "python3"
  },
  "language_info": {
   "codemirror_mode": {
    "name": "ipython",
    "version": 3
   },
   "file_extension": ".py",
   "mimetype": "text/x-python",
   "name": "python",
   "nbconvert_exporter": "python",
   "pygments_lexer": "ipython3",
   "version": "3.12.1"
  }
 },
 "nbformat": 4,
 "nbformat_minor": 2
}
